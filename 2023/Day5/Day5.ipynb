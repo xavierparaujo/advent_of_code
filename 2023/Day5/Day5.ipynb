{
 "cells": [
  {
   "cell_type": "markdown",
   "metadata": {},
   "source": [
    "# Day 5 - If You Give A Seed A Fertilizer\n",
    "https://adventofcode.com/2023/day/5"
   ]
  },
  {
   "cell_type": "markdown",
   "metadata": {},
   "source": [
    "### Part 1"
   ]
  },
  {
   "cell_type": "code",
   "execution_count": 49,
   "metadata": {},
   "outputs": [],
   "source": [
    "import pandas as pd\n",
    "import numpy as np\n",
    "import os\n",
    "\n",
    "with open('input.txt', 'r') as file:\n",
    "    input_raw = file.read()\n",
    "\n",
    "# input_raw = '''seeds: 79 14 55 13\n",
    "\n",
    "# seed-to-soil map:\n",
    "# 50 98 2\n",
    "# 52 50 48\n",
    "\n",
    "# soil-to-fertilizer map:\n",
    "# 0 15 37\n",
    "# 37 52 2\n",
    "# 39 0 15\n",
    "\n",
    "# fertilizer-to-water map:\n",
    "# 49 53 8\n",
    "# 0 11 42\n",
    "# 42 0 7\n",
    "# 57 7 4\n",
    "\n",
    "# water-to-light map:\n",
    "# 88 18 7\n",
    "# 18 25 70\n",
    "\n",
    "# light-to-temperature map:\n",
    "# 45 77 23\n",
    "# 81 45 19\n",
    "# 68 64 13\n",
    "\n",
    "# temperature-to-humidity map:\n",
    "# 0 69 1\n",
    "# 1 0 69\n",
    "\n",
    "# humidity-to-location map:\n",
    "# 60 56 37\n",
    "# 56 93 4'''"
   ]
  },
  {
   "cell_type": "code",
   "execution_count": 50,
   "metadata": {},
   "outputs": [],
   "source": [
    "input = input_raw.split('\\n')\n",
    "seeds = input[0]\n",
    "input = input[2:]\n",
    "seeds = seeds.split()[1:]"
   ]
  },
  {
   "cell_type": "code",
   "execution_count": 51,
   "metadata": {},
   "outputs": [],
   "source": [
    "input_df = pd.DataFrame({'data': input}).query(\"data != ''\")\n",
    "input_df = input_df['data'].str.split(expand=True)\n",
    "input_df.columns = ['destination', 'source', 'range']\n",
    "input_df = input_df[['source', 'destination', 'range']]"
   ]
  },
  {
   "cell_type": "code",
   "execution_count": 52,
   "metadata": {},
   "outputs": [],
   "source": [
    "map_list = []\n",
    "maps = {}\n",
    "map_dict = {}\n",
    "map_counter = -1\n",
    "\n",
    "for index, row in input_df.iterrows():\n",
    "    if not row['destination'].isdigit():\n",
    "        map_counter += 1\n",
    "        map_name = row['destination'].split('-')\n",
    "        temp_df = pd.DataFrame(columns=input_df.columns)\n",
    "        map_dict[map_name[0]] = map_name[2]\n",
    "        maps[(map_name[0], map_name[2])] = temp_df\n",
    "        map_list.append((map_name[0], map_name[2]))\n",
    "    else:\n",
    "        current_map = map_list[map_counter]\n",
    "        maps[current_map].loc[len(maps[current_map])] = row.astype(float)"
   ]
  },
  {
   "cell_type": "code",
   "execution_count": 53,
   "metadata": {},
   "outputs": [],
   "source": [
    "def find_destination_from_source(source_name, source_value, destination_name, maps):\n",
    "    map = maps[(source_name, destination_name)]\n",
    "    for i, row in map.iterrows():\n",
    "\n",
    "        if source_value >= row['source'] and source_value <= row['source'] + row['range']:\n",
    "            return (source_value - row['source']) + row['destination']\n",
    "        \n",
    "        if i == len(map)-1:\n",
    "            return source_value"
   ]
  },
  {
   "cell_type": "code",
   "execution_count": 54,
   "metadata": {},
   "outputs": [],
   "source": [
    "def find_path(source, destination, map_dict):\n",
    "    found = map_dict[source]\n",
    "    path = [(source, found)]\n",
    "    while found != destination:\n",
    "        path.append((found, map_dict[found]))\n",
    "        found = map_dict[found]\n",
    "    return path\n",
    "\n",
    "path = find_path('seed', 'location', map_dict)"
   ]
  },
  {
   "cell_type": "code",
   "execution_count": 55,
   "metadata": {},
   "outputs": [],
   "source": [
    "locations = []\n",
    "for seed in seeds:\n",
    "    curr = 'seed'\n",
    "    value = int(seed)\n",
    "    destination = 'location'\n",
    "    i = 0\n",
    "    for map_key in path:\n",
    "        value = find_destination_from_source(map_key[0], value, map_key[1], maps)\n",
    "\n",
    "    locations.append(value)"
   ]
  },
  {
   "cell_type": "code",
   "execution_count": 56,
   "metadata": {},
   "outputs": [
    {
     "data": {
      "text/plain": [
       "31599214.0"
      ]
     },
     "execution_count": 56,
     "metadata": {},
     "output_type": "execute_result"
    }
   ],
   "source": [
    "min(locations)"
   ]
  }
 ],
 "metadata": {
  "kernelspec": {
   "display_name": "advent-of-code-Sy5WZrDv-py3.11",
   "language": "python",
   "name": "python3"
  },
  "language_info": {
   "codemirror_mode": {
    "name": "ipython",
    "version": 3
   },
   "file_extension": ".py",
   "mimetype": "text/x-python",
   "name": "python",
   "nbconvert_exporter": "python",
   "pygments_lexer": "ipython3",
   "version": "3.12.0"
  }
 },
 "nbformat": 4,
 "nbformat_minor": 2
}
