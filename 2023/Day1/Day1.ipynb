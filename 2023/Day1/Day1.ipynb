{
 "cells": [
  {
   "cell_type": "markdown",
   "metadata": {},
   "source": [
    "## Day 1 \n",
    "\n",
    "### Part 1\n",
    "\n",
    "#### Challenge\n",
    "--- Day 1: Trebuchet?! ---\\\n",
    "Something is wrong with global snow production, and you've been selected to take a look. The Elves have even given you a map; on it, they've used stars to mark the top fifty locations that are likely to be having problems.\n",
    "\n",
    "You've been doing this long enough to know that to restore snow operations, you need to check all fifty stars by December 25th.\n",
    "\n",
    "Collect stars by solving puzzles. Two puzzles will be made available on each day in the Advent calendar; the second puzzle is unlocked when you complete the first. Each puzzle grants one star. Good luck!\n",
    "\n",
    "You try to ask why they can't just use a weather machine (\"not powerful enough\") and where they're even sending you (\"the sky\") and why your map looks mostly blank (\"you sure ask a lot of questions\") and hang on did you just say the sky (\"of course, where do you think snow comes from\") when you realize that the Elves are already loading you into a trebuchet (\"please hold still, we need to strap you in\").\n",
    "\n",
    "As they're making the final adjustments, they discover that their calibration document (your puzzle input) has been amended by a very young Elf who was apparently just excited to show off her art skills. Consequently, the Elves are having trouble reading the values on the document.\n",
    "\n",
    "The newly-improved calibration document consists of lines of text; each line originally contained a specific calibration value that the Elves now need to recover. On each line, the calibration value can be found by combining the first digit and the last digit (in that order) to form a single two-digit number.\n",
    "\n",
    "For example:\n",
    "\n",
    "1abc2\\\n",
    "pqr3stu8vwx\\\n",
    "a1b2c3d4e5f\\\n",
    "treb7uchet\\\n",
    "In this example, the calibration values of these four lines are 12, 38, 15, and 77. Adding these together produces 142.\n",
    "\n",
    "Consider your entire calibration document. What is the sum of all of the calibration values?"
   ]
  },
  {
   "cell_type": "markdown",
   "metadata": {},
   "source": [
    "#### Solution"
   ]
  },
  {
   "cell_type": "code",
   "execution_count": 81,
   "metadata": {},
   "outputs": [],
   "source": [
    "import pandas as pd\n",
    "import re\n",
    "import numpy as np"
   ]
  },
  {
   "cell_type": "markdown",
   "metadata": {},
   "source": [
    "## Read in input data"
   ]
  },
  {
   "cell_type": "code",
   "execution_count": 94,
   "metadata": {},
   "outputs": [],
   "source": [
    "data = pd.read_csv('input.csv')\n",
    "example_string = data['input'][0]"
   ]
  },
  {
   "cell_type": "markdown",
   "metadata": {},
   "source": [
    "### Create function that finds the first and last integers of a string"
   ]
  },
  {
   "cell_type": "code",
   "execution_count": 4,
   "metadata": {},
   "outputs": [
    {
     "data": {
      "text/plain": [
       "22"
      ]
     },
     "execution_count": 4,
     "metadata": {},
     "output_type": "execute_result"
    }
   ],
   "source": [
    "def get_first_and_last_ints(string):\n",
    "    first_int = None\n",
    "    last_int = None\n",
    "    for i, c in enumerate(string):\n",
    "        try:\n",
    "            first_int = int(c)\n",
    "            break\n",
    "        except ValueError as e:\n",
    "            pass\n",
    "\n",
    "    for i, c in enumerate(string):\n",
    "        try:\n",
    "            last_int = int(string[len(string) - (i + 1)])\n",
    "            break\n",
    "        except ValueError as e:\n",
    "            pass\n",
    "\n",
    "    return int(f'{first_int}{last_int}')\n",
    "\n",
    "get_first_and_last_ints(example_string)"
   ]
  },
  {
   "cell_type": "markdown",
   "metadata": {},
   "source": [
    "### Apply function to each element then sum all elements"
   ]
  },
  {
   "cell_type": "code",
   "execution_count": 5,
   "metadata": {},
   "outputs": [
    {
     "data": {
      "text/plain": [
       "55208"
      ]
     },
     "execution_count": 5,
     "metadata": {},
     "output_type": "execute_result"
    }
   ],
   "source": [
    "data['Number'] = data['input'].apply(lambda x: get_first_and_last_ints(x))\n",
    "data['Number'].sum()"
   ]
  },
  {
   "cell_type": "markdown",
   "metadata": {},
   "source": [
    "### Part 2\n",
    "Your calculation isn't quite right. It looks like some of the digits are actually spelled out with letters: one, two, three, four, five, six, seven, eight, and nine also count as valid \"digits\".\n",
    "\n",
    "Equipped with this new information, you now need to find the real first and last digit on each line. For example:\n",
    "\n",
    "two1nine\\\n",
    "eightwothree\\\n",
    "abcone2threexyz\\\n",
    "xtwone3four\\\n",
    "4nineeightseven2\\\n",
    "zoneight234\\\n",
    "7pqrstsixteen\\\n",
    "In this example, the calibration values are 29, 83, 13, 24, 42, 14, and 76. Adding these together produces 281.\n",
    "\n",
    "What is the sum of all of the calibration values?"
   ]
  },
  {
   "cell_type": "markdown",
   "metadata": {},
   "source": [
    "### Solution"
   ]
  },
  {
   "cell_type": "code",
   "execution_count": 120,
   "metadata": {},
   "outputs": [],
   "source": [
    "data = pd.read_csv('input.csv')\n",
    "example = pd.DataFrame({\n",
    "    'string': [\n",
    "        'two1nine',\n",
    "        'eightwothree',\n",
    "        'abcone2threexyz',\n",
    "        'xtwone3four',\n",
    "        '4nineeightseven2',\n",
    "        'zoneight234',\n",
    "        '7pqrstsixteen'\n",
    "    ]\n",
    "})"
   ]
  },
  {
   "cell_type": "code",
   "execution_count": 121,
   "metadata": {},
   "outputs": [],
   "source": [
    "def get_first_last_numbers(string):\n",
    "    number_list = [\n",
    "        'one', 'two', 'three', 'four', 'five', 'six', 'seven', 'eight', 'nine'\n",
    "    ]\n",
    "\n",
    "    temp_dict = {}\n",
    "    for i, n in enumerate(number_list):\n",
    "        num = i + 1\n",
    "        num_str = n\n",
    "\n",
    "        for m in re.finditer(num_str, string):\n",
    "            temp_dict[m.start()] = num\n",
    "\n",
    "        for m in re.finditer(str(num), string):\n",
    "            temp_dict[m.start()] = num\n",
    "\n",
    "    return int(f'{temp_dict[min(temp_dict.keys())]}{temp_dict[max(temp_dict.keys())]}')"
   ]
  },
  {
   "cell_type": "code",
   "execution_count": 124,
   "metadata": {},
   "outputs": [
    {
     "data": {
      "text/plain": [
       "54578"
      ]
     },
     "execution_count": 124,
     "metadata": {},
     "output_type": "execute_result"
    }
   ],
   "source": [
    "data['Answer'] = data['input'].apply(lambda x: get_first_last_numbers(x))\n",
    "data['Answer'].sum()"
   ]
  },
  {
   "cell_type": "code",
   "execution_count": null,
   "metadata": {},
   "outputs": [],
   "source": []
  }
 ],
 "metadata": {
  "kernelspec": {
   "display_name": "advent-of-code-UYxL3CbG-py3.12",
   "language": "python",
   "name": "python3"
  },
  "language_info": {
   "codemirror_mode": {
    "name": "ipython",
    "version": 3
   },
   "file_extension": ".py",
   "mimetype": "text/x-python",
   "name": "python",
   "nbconvert_exporter": "python",
   "pygments_lexer": "ipython3",
   "version": "3.12.0"
  }
 },
 "nbformat": 4,
 "nbformat_minor": 2
}
