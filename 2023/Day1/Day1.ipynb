{
 "cells": [
  {
   "cell_type": "code",
   "execution_count": 53,
   "metadata": {},
   "outputs": [],
   "source": [
    "import pandas as pd"
   ]
  },
  {
   "cell_type": "markdown",
   "metadata": {},
   "source": [
    "## Read in input data"
   ]
  },
  {
   "cell_type": "code",
   "execution_count": 54,
   "metadata": {},
   "outputs": [],
   "source": [
    "data = pd.read_csv('input.csv')\n",
    "example_string = data['input'][0]"
   ]
  },
  {
   "cell_type": "markdown",
   "metadata": {},
   "source": [
    "### Create function that finds the first and last integers of a string"
   ]
  },
  {
   "cell_type": "code",
   "execution_count": 55,
   "metadata": {},
   "outputs": [
    {
     "data": {
      "text/plain": [
       "22"
      ]
     },
     "execution_count": 55,
     "metadata": {},
     "output_type": "execute_result"
    }
   ],
   "source": [
    "def get_first_and_last_ints(string):\n",
    "    first_int = None\n",
    "    last_int = None\n",
    "    for i, c in enumerate(string):\n",
    "        try:\n",
    "            first_int = int(c)\n",
    "            break\n",
    "        except ValueError as e:\n",
    "            pass\n",
    "\n",
    "    for i, c in enumerate(string):\n",
    "        try:\n",
    "            last_int = int(string[len(string) - (i + 1)])\n",
    "            break\n",
    "        except ValueError as e:\n",
    "            pass\n",
    "\n",
    "    return int(f'{first_int}{last_int}')\n",
    "\n",
    "get_first_and_last_ints(example_string)"
   ]
  },
  {
   "cell_type": "markdown",
   "metadata": {},
   "source": [
    "### Apply function to each element then sum all elements"
   ]
  },
  {
   "cell_type": "code",
   "execution_count": 56,
   "metadata": {},
   "outputs": [
    {
     "data": {
      "text/plain": [
       "55208"
      ]
     },
     "execution_count": 56,
     "metadata": {},
     "output_type": "execute_result"
    }
   ],
   "source": [
    "data['Number'] = data['input'].apply(lambda x: get_first_and_last_ints(x))\n",
    "data['Number'].sum()"
   ]
  }
 ],
 "metadata": {
  "kernelspec": {
   "display_name": "advent-of-code-UYxL3CbG-py3.12",
   "language": "python",
   "name": "python3"
  },
  "language_info": {
   "codemirror_mode": {
    "name": "ipython",
    "version": 3
   },
   "file_extension": ".py",
   "mimetype": "text/x-python",
   "name": "python",
   "nbconvert_exporter": "python",
   "pygments_lexer": "ipython3",
   "version": "3.12.0"
  }
 },
 "nbformat": 4,
 "nbformat_minor": 2
}
