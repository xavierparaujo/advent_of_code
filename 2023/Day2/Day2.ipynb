{
 "cells": [
  {
   "cell_type": "markdown",
   "metadata": {},
   "source": [
    "# Day 2: Cube Conundrum"
   ]
  },
  {
   "cell_type": "code",
   "execution_count": 12,
   "metadata": {},
   "outputs": [],
   "source": [
    "import pandas as pd\n",
    "import numpy as np\n",
    "import os"
   ]
  },
  {
   "cell_type": "markdown",
   "metadata": {},
   "source": [
    "### Part 1\n",
    "You're launched high into the atmosphere! The apex of your trajectory just barely reaches the surface of a large island floating in the sky. You gently land in a fluffy pile of leaves. It's quite cold, but you don't see much snow. An Elf runs over to greet you.\n",
    "\n",
    "The Elf explains that you've arrived at Snow Island and apologizes for the lack of snow. He'll be happy to explain the situation, but it's a bit of a walk, so you have some time. They don't get many visitors up here; would you like to play a game in the meantime?\n",
    "\n",
    "As you walk, the Elf shows you a small bag and some cubes which are either red, green, or blue. Each time you play this game, he will hide a secret number of cubes of each color in the bag, and your goal is to figure out information about the number of cubes.\n",
    "\n",
    "To get information, once a bag has been loaded with cubes, the Elf will reach into the bag, grab a handful of random cubes, show them to you, and then put them back in the bag. He'll do this a few times per game.\n",
    "\n",
    "You play several games and record the information from each game (your puzzle input). Each game is listed with its ID number (like the 11 in Game 11: ...) followed by a semicolon-separated list of subsets of cubes that were revealed from the bag (like 3 red, 5 green, 4 blue).\n",
    "\n",
    "For example, the record of a few games might look like this:\n",
    "\n",
    "Game 1: 3 blue, 4 red; 1 red, 2 green, 6 blue; 2 green\\\n",
    "Game 2: 1 blue, 2 green; 3 green, 4 blue, 1 red; 1 green, 1 blue\\\n",
    "Game 3: 8 green, 6 blue, 20 red; 5 blue, 4 red, 13 green; 5 green, 1 red\\\n",
    "Game 4: 1 green, 3 red, 6 blue; 3 green, 6 red; 3 green, 15 blue, 14 red\\\n",
    "Game 5: 6 red, 1 blue, 3 green; 2 blue, 1 red, 2 green\\\n",
    "\n",
    "In game 1, three sets of cubes are revealed from the bag (and then put back again). The first set is 3 blue cubes and 4 red cubes; the second set is 1 red cube, 2 green cubes, and 6 blue cubes; the third set is only 2 green cubes.\n",
    "\n",
    "The Elf would first like to know which games would have been possible if the bag contained only 12 red cubes, 13 green cubes, and 14 blue cubes?\n",
    "\n",
    "In the example above, games 1, 2, and 5 would have been possible if the bag had been loaded with that configuration. However, game 3 would have been impossible because at one point the Elf showed you 20 red cubes at once; similarly, game 4 would also have been impossible because the Elf showed you 15 blue cubes at once. If you add up the IDs of the games that would have been possible, you get 8.\n",
    "\n",
    "Determine which games would have been possible if the bag had been loaded with only 12 red cubes, 13 green cubes, and 14 blue cubes. What is the sum of the IDs of those games?"
   ]
  },
  {
   "cell_type": "markdown",
   "metadata": {},
   "source": [
    "## Import data"
   ]
  },
  {
   "cell_type": "code",
   "execution_count": 13,
   "metadata": {},
   "outputs": [],
   "source": [
    "with open('input.txt', 'r') as file:\n",
    "    input_raw = file.read()\n",
    "\n",
    "game_pieces = {\n",
    "    'red': 12,\n",
    "    'green': 13,\n",
    "    'blue': 14\n",
    "}"
   ]
  },
  {
   "cell_type": "markdown",
   "metadata": {},
   "source": [
    "### Clean Data"
   ]
  },
  {
   "cell_type": "code",
   "execution_count": 14,
   "metadata": {},
   "outputs": [],
   "source": [
    "input_df = pd.DataFrame(input.split('Game '))\n",
    "input_df.drop(0, inplace=True)\n",
    "input_df[['Game', 'Hands']] = input_df[0].str.split(':', expand=True)\n",
    "input_df = input_df[['Game', 'Hands']]\n",
    "hands = input_df['Hands'].str.split(';', expand=True)\n",
    "hands.columns = [x+1 for x in hands.columns]\n",
    "input_df[hands.columns] = hands\n",
    "input_df.drop(columns='Hands', inplace=True)\n",
    "input_df = input_df.melt(id_vars='Game', value_vars=hands.columns).rename(columns={'variable': 'Hand'}).sort_values(['Game', 'Hand'])\n",
    "balls = input_df['value'].str.split(',', expand=True)\n",
    "input_df[balls.columns] = balls\n",
    "input_df.drop(columns='value', inplace=True)\n",
    "input_df = input_df.melt(id_vars=['Game', 'Hand'], value_vars=balls.columns).drop(columns='variable').dropna()\n",
    "input_df['value'] = input_df['value'].replace('\\n', '', regex=True)\n",
    "temp = input_df['value'].str.split(' ', expand=True)\n",
    "temp = temp[temp.columns[1:]]\n",
    "input_df[['Count', 'Ball']] = temp\n",
    "input_df = input_df.drop(columns='value').sort_values(['Game', 'Hand', 'Ball']).reset_index(drop=True)\n",
    "input_df['Count'] = input_df['Count'].astype(int)\n",
    "input_df['Game'] = input_df['Game'].astype(int)\n",
    "\n",
    "df = input_df.groupby(['Game', 'Hand', 'Ball'])['Count'].sum().reset_index()\n",
    "df['Bad_Game'] = df.apply(lambda x: 1 if x['Count'] > game_pieces[x['Ball']] else 0, axis=1)"
   ]
  },
  {
   "cell_type": "code",
   "execution_count": 15,
   "metadata": {},
   "outputs": [
    {
     "data": {
      "text/plain": [
       "2149"
      ]
     },
     "execution_count": 15,
     "metadata": {},
     "output_type": "execute_result"
    }
   ],
   "source": [
    "games = df['Game'].unique()\n",
    "good_games = []\n",
    "\n",
    "for game in games:\n",
    "    temp = df.query('Game == @game')\n",
    "    # Check if all values in 'Bad_Game' are zero\n",
    "    if (temp['Bad_Game'] == 0).all():\n",
    "        good_games.append(game)\n",
    "\n",
    "sum(good_games)\n"
   ]
  },
  {
   "cell_type": "markdown",
   "metadata": {},
   "source": [
    "## Part 2\n",
    "The Elf says they've stopped producing snow because they aren't getting any water! He isn't sure why the water stopped; however, he can show you how to get to the water source to check it out for yourself. It's just up ahead!\n",
    "\n",
    "As you continue your walk, the Elf poses a second question: in each game you played, what is the fewest number of cubes of each color that could have been in the bag to make the game possible?\n",
    "\n",
    "Again consider the example games from earlier:\n",
    "\n",
    "Game 1: 3 blue, 4 red; 1 red, 2 green, 6 blue; 2 green\\\n",
    "Game 2: 1 blue, 2 green; 3 green, 4 blue, 1 red; 1 green, 1 blue\\\n",
    "Game 3: 8 green, 6 blue, 20 red; 5 blue, 4 red, 13 green; 5 green, 1 red\\\n",
    "Game 4: 1 green, 3 red, 6 blue; 3 green, 6 red; 3 green, 15 blue, 14 red\\\n",
    "Game 5: 6 red, 1 blue, 3 green; 2 blue, 1 red, 2 green\n",
    "\n",
    "In game 1, the game could have been played with as few as 4 red, 2 green, and 6 blue cubes. If any color had even one fewer cube, the game would have been impossible.\n",
    "Game 2 could have been played with a minimum of 1 red, 3 green, and 4 blue cubes.\n",
    "Game 3 must have been played with at least 20 red, 13 green, and 6 blue cubes.\n",
    "Game 4 required at least 14 red, 3 green, and 15 blue cubes.\n",
    "Game 5 needed no fewer than 6 red, 3 green, and 2 blue cubes in the bag.\n",
    "The power of a set of cubes is equal to the numbers of red, green, and blue cubes multiplied together. The power of the minimum set of cubes in game 1 is 48. In games 2-5 it was 12, 1560, 630, and 36, respectively. Adding up these five powers produces the sum 2286.\n",
    "\n",
    "For each game, find the minimum set of cubes that must have been present. What is the sum of the power of these sets?"
   ]
  },
  {
   "cell_type": "code",
   "execution_count": 24,
   "metadata": {},
   "outputs": [
    {
     "data": {
      "text/plain": [
       "71274"
      ]
     },
     "execution_count": 24,
     "metadata": {},
     "output_type": "execute_result"
    }
   ],
   "source": [
    "part_2 = input_df.groupby(['Game', 'Ball'])['Count'].max().reset_index().pivot(index='Game', columns='Ball', values='Count')\n",
    "part_2['Power'] = part_2['blue'] * part_2['green'] * part_2['red']\n",
    "part_2['Power'].sum()"
   ]
  },
  {
   "cell_type": "code",
   "execution_count": null,
   "metadata": {},
   "outputs": [],
   "source": []
  },
  {
   "cell_type": "code",
   "execution_count": null,
   "metadata": {},
   "outputs": [],
   "source": []
  }
 ],
 "metadata": {
  "kernelspec": {
   "display_name": "advent-of-code-Sy5WZrDv-py3.11",
   "language": "python",
   "name": "python3"
  },
  "language_info": {
   "codemirror_mode": {
    "name": "ipython",
    "version": 3
   },
   "file_extension": ".py",
   "mimetype": "text/x-python",
   "name": "python",
   "nbconvert_exporter": "python",
   "pygments_lexer": "ipython3",
   "version": "3.11.5"
  }
 },
 "nbformat": 4,
 "nbformat_minor": 2
}
