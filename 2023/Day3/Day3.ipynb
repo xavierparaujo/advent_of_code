{
 "cells": [
  {
   "cell_type": "code",
   "execution_count": 1,
   "metadata": {},
   "outputs": [],
   "source": [
    "import pandas as pd\n",
    "import numpy as np\n",
    "import os"
   ]
  },
  {
   "cell_type": "markdown",
   "metadata": {},
   "source": [
    "# Day 3 Gear Ratios\n",
    "You and the Elf eventually reach a gondola lift station; he says the gondola lift will take you up to the water source, but this is as far as he can bring you. You go inside.\n",
    "\n",
    "It doesn't take long to find the gondolas, but there seems to be a problem: they're not moving.\n",
    "\n",
    "\"Aaah!\"\n",
    "\n",
    "You turn around to see a slightly-greasy Elf with a wrench and a look of surprise. \"Sorry, I wasn't expecting anyone! The gondola lift isn't working right now; it'll still be a while before I can fix it.\" You offer to help.\n",
    "\n",
    "The engineer explains that an engine part seems to be missing from the engine, but nobody can figure out which one. If you can add up all the part numbers in the engine schematic, it should be easy to work out which part is missing.\n",
    "\n",
    "The engine schematic (your puzzle input) consists of a visual representation of the engine. There are lots of numbers and symbols you don't really understand, but apparently any number adjacent to a symbol, even diagonally, is a \"part number\" and should be included in your sum. (Periods (.) do not count as a symbol.)\n",
    "\n",
    "Here is an example engine schematic:\n",
    "\n",
    "467..114..\\\n",
    "...*......\\\n",
    "..35..633.\\\n",
    "......#...\\\n",
    "617*......\\\n",
    ".....+.58.\\\n",
    "..592.....\\\n",
    "......755.\\\n",
    "...$.*....\\\n",
    ".664.598..\\\n",
    "\n",
    "In this schematic, two numbers are not part numbers because they are not adjacent to a symbol: 114 (top right) and 58 (middle right). Every other number is adjacent to a symbol and so is a part number; their sum is 4361.\n",
    "\n",
    "Of course, the actual engine schematic is much larger. What is the sum of all of the part numbers in the engine schematic?"
   ]
  },
  {
   "cell_type": "code",
   "execution_count": 68,
   "metadata": {},
   "outputs": [],
   "source": [
    "with open('input.txt', 'r') as file:\n",
    "    input = file.read()"
   ]
  },
  {
   "cell_type": "code",
   "execution_count": 73,
   "metadata": {},
   "outputs": [],
   "source": [
    "input_df = pd.DataFrame({'data': input.split('\\n')})\n",
    "input_df.data = input_df.data.apply(list)\n",
    "input_df = pd.DataFrame(input_df['data'].tolist())"
   ]
  },
  {
   "cell_type": "code",
   "execution_count": 83,
   "metadata": {},
   "outputs": [
    {
     "data": {
      "text/plain": [
       "'*'"
      ]
     },
     "execution_count": 83,
     "metadata": {},
     "output_type": "execute_result"
    }
   ],
   "source": [
    "i = 1\n",
    "j = 12\n",
    "\n",
    "\n",
    "class Piece:\n",
    "    def __init__(self, df, i, j):\n",
    "        self.r = j+1\n",
    "        self.l = j-1\n",
    "        self.u =\n",
    "        self.d =\n",
    "        self.ur =\n",
    "        self.ul =\n",
    "        self.dr =\n",
    "        self.dl =\n",
    "\n",
    "def l(i, j):\n",
    "    return i, j-1\n",
    "\n",
    "def r(i, j):\n",
    "    return i, j+1\n",
    "\n",
    "def u(i, j):\n",
    "    return i-1, j\n",
    "\n",
    "def d(i, j):\n",
    "    return i+1, j\n",
    "\n",
    "def ur(i, j):\n",
    "    return i-1, j+1\n",
    "\n",
    "def dr(i, j):\n",
    "    return i+1, j+1\n",
    "\n",
    "def ul(i, j):\n",
    "    return i-1, j-1\n",
    "\n",
    "def dl(i, j):\n",
    "    return i+1, j-1\n",
    "\n",
    "def check_right(df):\n",
    "    df.iloc[]\n",
    "        \n",
    "\n",
    "input_df.iloc[1, 12]"
   ]
  },
  {
   "cell_type": "code",
   "execution_count": 77,
   "metadata": {},
   "outputs": [],
   "source": [
    "for i in range(len(input_df)):\n",
    "    for j in range(len(input_df.columns)):\n",
    "        pass"
   ]
  },
  {
   "cell_type": "code",
   "execution_count": null,
   "metadata": {},
   "outputs": [],
   "source": []
  }
 ],
 "metadata": {
  "kernelspec": {
   "display_name": "advent-of-code-UYxL3CbG-py3.12",
   "language": "python",
   "name": "python3"
  },
  "language_info": {
   "codemirror_mode": {
    "name": "ipython",
    "version": 3
   },
   "file_extension": ".py",
   "mimetype": "text/x-python",
   "name": "python",
   "nbconvert_exporter": "python",
   "pygments_lexer": "ipython3",
   "version": "3.12.0"
  }
 },
 "nbformat": 4,
 "nbformat_minor": 2
}
